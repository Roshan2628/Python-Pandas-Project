{
 "cells": [
  {
   "cell_type": "code",
   "execution_count": 1,
   "id": "739fc24e-c809-48fd-b574-792570c312c4",
   "metadata": {},
   "outputs": [],
   "source": [
    "## Importing required labraries - \n",
    "import pandas as pd"
   ]
  },
  {
   "cell_type": "code",
   "execution_count": 2,
   "id": "483e2b2c-3488-498c-b3ab-77311047e8fe",
   "metadata": {},
   "outputs": [
    {
     "name": "stdout",
     "output_type": "stream",
     "text": [
      "             title  year      name   type character     n\n",
      "0   Closet Monster  2015  Buffy #1  actor   Buffy 4   NaN\n",
      "1  Suuri illusioni  1985    Homo $  actor    Guests  22.0\n"
     ]
    }
   ],
   "source": [
    "data = pd.read_csv('D:/Top Mentor/cast.csv') ## importing the required file from system \n",
    "print(data.head(2))"
   ]
  },
  {
   "cell_type": "code",
   "execution_count": 3,
   "id": "20c2b62c-669a-449f-b713-a01f723c8733",
   "metadata": {},
   "outputs": [
    {
     "name": "stdout",
     "output_type": "stream",
     "text": [
      "             title  year      name   type character     n\n",
      "0   Closet Monster  2015  Buffy #1  actor   Buffy 4   NaN\n",
      "1  Suuri illusioni  1985    Homo $  actor    Guests  22.0\n"
     ]
    }
   ],
   "source": [
    "df = data.copy()   ## First copy our required data \n",
    "print(df.head(2))"
   ]
  },
  {
   "cell_type": "markdown",
   "id": "1963c85e-9cec-44a1-b97d-f32c24583fc9",
   "metadata": {},
   "source": [
    "### In Given data sheet - columns are 5 - \n",
    "# Title meand - Movie name \n",
    "# year - movie releasing year\n",
    "# name  - actor name \n",
    "# type - type of actor male / female\n",
    "# charecter - roll\n",
    "# n - stand for rank of movie "
   ]
  },
  {
   "cell_type": "code",
   "execution_count": 4,
   "id": "7576fe2e-ed03-42bf-9d04-30093ffa9f3c",
   "metadata": {},
   "outputs": [
    {
     "name": "stdout",
     "output_type": "stream",
     "text": [
      "Min year -  1894\n",
      "Max year -  2023\n",
      "Min n -  1.0\n",
      "Max n -  33613.0\n",
      "No of Unique Title -  172293\n",
      "No of Unique character -  1535710\n",
      "No of Unique name -  1322023\n",
      "No of Unique type -  2\n"
     ]
    }
   ],
   "source": [
    "## Reading the data first - \n",
    "print('Min year - ',df['year'].min())\n",
    "print('Max year - ',df['year'].max())\n",
    "print('Min n - ',df['n'].min())\n",
    "print('Max n - ',df['n'].max())\n",
    "print('No of Unique Title - ',df['title'].nunique())\n",
    "print('No of Unique character - ',df['character'].nunique())\n",
    "print('No of Unique name - ',df['name'].nunique())\n",
    "print('No of Unique type - ',df['type'].nunique())"
   ]
  },
  {
   "cell_type": "code",
   "execution_count": 7,
   "id": "1687e2ca-8a10-4149-918d-5bd3d2e716b9",
   "metadata": {
    "scrolled": true
   },
   "outputs": [
    {
     "name": "stdout",
     "output_type": "stream",
     "text": [
      "no of columns -  Index(['title', 'year', 'name', 'type', 'character', 'n'], dtype='object')\n",
      "no of shapes -  (3611212, 6)\n",
      "no of lenght -  3611212\n",
      "no of datatype - \n",
      " title         object\n",
      "year           int64\n",
      "name          object\n",
      "type          object\n",
      "character     object\n",
      "n            float64\n",
      "dtype: object\n",
      "data information -  <bound method DataFrame.info of                                     title  year                         name  \\\n",
      "0                          Closet Monster  2015                     Buffy #1   \n",
      "1                         Suuri illusioni  1985                       Homo $   \n",
      "2                     Battle of the Sexes  2017                      $hutter   \n",
      "3                    Secret in Their Eyes  2015                      $hutter   \n",
      "4                              Steve Jobs  2015                      $hutter   \n",
      "...                                   ...   ...                          ...   \n",
      "3611207                           Foxtrot  1988            Lilja ??risd?ttir   \n",
      "3611208  Niceland (Population. 1.000.002)  2004    Sigr??ur J?na ??risd?ttir   \n",
      "3611209                         Skammdegi  1985           Dalla ??r?ard?ttir   \n",
      "3611210                      U.S.S.S.S...  2003  Krist?n Andrea ??r?ard?ttir   \n",
      "3611211                 Bye Bye Blue Bird  1999                 Rosa ? R?gvu   \n",
      "\n",
      "            type                character     n  \n",
      "0          actor                  Buffy 4   NaN  \n",
      "1          actor                   Guests  22.0  \n",
      "2          actor          Bobby Riggs Fan  10.0  \n",
      "3          actor          2002 Dodger Fan   NaN  \n",
      "4          actor  1988 Opera House Patron   NaN  \n",
      "...          ...                      ...   ...  \n",
      "3611207  actress                     D?ra  24.0  \n",
      "3611208  actress             Woman in Bus  26.0  \n",
      "3611209  actress            Hj?krunarkona   9.0  \n",
      "3611210  actress   Afgr.dama ? bens?nst??  17.0  \n",
      "3611211  actress        Pensionatv?rtinde   NaN  \n",
      "\n",
      "[3611212 rows x 6 columns]>\n"
     ]
    }
   ],
   "source": [
    "##Checking Data Parameter :-\n",
    "print('no of columns - ' , df.columns)\n",
    "print('no of shapes - ' , df.shape)\n",
    "print('no of lenght - ' , len(df))\n",
    "print('no of datatype - \\n' , df.dtypes)\n",
    "print('data information - ' , df.info)"
   ]
  },
  {
   "cell_type": "code",
   "execution_count": 8,
   "id": "cb844038-064a-4675-80d0-19427c01d6fd",
   "metadata": {},
   "outputs": [
    {
     "data": {
      "text/plain": [
       "title              6\n",
       "year               0\n",
       "name               0\n",
       "type               0\n",
       "character         14\n",
       "n            1379242\n",
       "dtype: int64"
      ]
     },
     "execution_count": 8,
     "metadata": {},
     "output_type": "execute_result"
    }
   ],
   "source": [
    "### Count of Missing Value \n",
    "df.isnull().sum()    "
   ]
  },
  {
   "cell_type": "code",
   "execution_count": 5,
   "id": "3e89a69f-d9bf-44e7-996f-b1b1dc264bec",
   "metadata": {},
   "outputs": [
    {
     "name": "stdout",
     "output_type": "stream",
     "text": [
      "title              6\n",
      "year               0\n",
      "name               0\n",
      "type               0\n",
      "character         14\n",
      "n            1379242\n",
      "dtype: int64\n",
      "3611212\n"
     ]
    }
   ],
   "source": [
    "######  Missing Value %\n",
    "missing_Value = df.isnull().sum()\n",
    "total_value = len(df)\n",
    "print(missing_Value)\n",
    "print(total_value)"
   ]
  },
  {
   "cell_type": "code",
   "execution_count": 10,
   "id": "d4da6736-2172-4748-a924-46bb5b0caba6",
   "metadata": {},
   "outputs": [
    {
     "name": "stdout",
     "output_type": "stream",
     "text": [
      "percentage of missing value - \n",
      " title         0.000166\n",
      "year          0.000000\n",
      "name          0.000000\n",
      "type          0.000000\n",
      "character     0.000388\n",
      "n            38.193327\n",
      "dtype: float64\n"
     ]
    }
   ],
   "source": [
    "missing_percentage = (missing_Value / total_value)*100\n",
    "print('percentage of missing value - \\n',missing_percentage)"
   ]
  },
  {
   "cell_type": "markdown",
   "id": "1c66c9ed-957f-4256-94d5-25c08a46ce1c",
   "metadata": {},
   "source": [
    "## if missing value percentage is greater than 30% then we have to drop this column \n",
    "## if we want to fill this data that time we have use the fuction is fill na . "
   ]
  },
  {
   "cell_type": "code",
   "execution_count": 6,
   "id": "d92bb44c-336d-4e67-9a6d-036719e6eb91",
   "metadata": {
    "scrolled": true
   },
   "outputs": [
    {
     "data": {
      "text/html": [
       "<div>\n",
       "<style scoped>\n",
       "    .dataframe tbody tr th:only-of-type {\n",
       "        vertical-align: middle;\n",
       "    }\n",
       "\n",
       "    .dataframe tbody tr th {\n",
       "        vertical-align: top;\n",
       "    }\n",
       "\n",
       "    .dataframe thead th {\n",
       "        text-align: right;\n",
       "    }\n",
       "</style>\n",
       "<table border=\"1\" class=\"dataframe\">\n",
       "  <thead>\n",
       "    <tr style=\"text-align: right;\">\n",
       "      <th></th>\n",
       "      <th>title</th>\n",
       "      <th>year</th>\n",
       "      <th>name</th>\n",
       "      <th>type</th>\n",
       "      <th>character</th>\n",
       "      <th>n</th>\n",
       "    </tr>\n",
       "  </thead>\n",
       "  <tbody>\n",
       "    <tr>\n",
       "      <th>0</th>\n",
       "      <td>Closet Monster</td>\n",
       "      <td>2015</td>\n",
       "      <td>Buffy #1</td>\n",
       "      <td>actor</td>\n",
       "      <td>Buffy 4</td>\n",
       "      <td>0.0</td>\n",
       "    </tr>\n",
       "    <tr>\n",
       "      <th>1</th>\n",
       "      <td>Suuri illusioni</td>\n",
       "      <td>1985</td>\n",
       "      <td>Homo $</td>\n",
       "      <td>actor</td>\n",
       "      <td>Guests</td>\n",
       "      <td>22.0</td>\n",
       "    </tr>\n",
       "    <tr>\n",
       "      <th>2</th>\n",
       "      <td>Battle of the Sexes</td>\n",
       "      <td>2017</td>\n",
       "      <td>$hutter</td>\n",
       "      <td>actor</td>\n",
       "      <td>Bobby Riggs Fan</td>\n",
       "      <td>10.0</td>\n",
       "    </tr>\n",
       "    <tr>\n",
       "      <th>3</th>\n",
       "      <td>Secret in Their Eyes</td>\n",
       "      <td>2015</td>\n",
       "      <td>$hutter</td>\n",
       "      <td>actor</td>\n",
       "      <td>2002 Dodger Fan</td>\n",
       "      <td>0.0</td>\n",
       "    </tr>\n",
       "    <tr>\n",
       "      <th>4</th>\n",
       "      <td>Steve Jobs</td>\n",
       "      <td>2015</td>\n",
       "      <td>$hutter</td>\n",
       "      <td>actor</td>\n",
       "      <td>1988 Opera House Patron</td>\n",
       "      <td>0.0</td>\n",
       "    </tr>\n",
       "    <tr>\n",
       "      <th>...</th>\n",
       "      <td>...</td>\n",
       "      <td>...</td>\n",
       "      <td>...</td>\n",
       "      <td>...</td>\n",
       "      <td>...</td>\n",
       "      <td>...</td>\n",
       "    </tr>\n",
       "    <tr>\n",
       "      <th>3611207</th>\n",
       "      <td>Foxtrot</td>\n",
       "      <td>1988</td>\n",
       "      <td>Lilja ??risd?ttir</td>\n",
       "      <td>actress</td>\n",
       "      <td>D?ra</td>\n",
       "      <td>24.0</td>\n",
       "    </tr>\n",
       "    <tr>\n",
       "      <th>3611208</th>\n",
       "      <td>Niceland (Population. 1.000.002)</td>\n",
       "      <td>2004</td>\n",
       "      <td>Sigr??ur J?na ??risd?ttir</td>\n",
       "      <td>actress</td>\n",
       "      <td>Woman in Bus</td>\n",
       "      <td>26.0</td>\n",
       "    </tr>\n",
       "    <tr>\n",
       "      <th>3611209</th>\n",
       "      <td>Skammdegi</td>\n",
       "      <td>1985</td>\n",
       "      <td>Dalla ??r?ard?ttir</td>\n",
       "      <td>actress</td>\n",
       "      <td>Hj?krunarkona</td>\n",
       "      <td>9.0</td>\n",
       "    </tr>\n",
       "    <tr>\n",
       "      <th>3611210</th>\n",
       "      <td>U.S.S.S.S...</td>\n",
       "      <td>2003</td>\n",
       "      <td>Krist?n Andrea ??r?ard?ttir</td>\n",
       "      <td>actress</td>\n",
       "      <td>Afgr.dama ? bens?nst??</td>\n",
       "      <td>17.0</td>\n",
       "    </tr>\n",
       "    <tr>\n",
       "      <th>3611211</th>\n",
       "      <td>Bye Bye Blue Bird</td>\n",
       "      <td>1999</td>\n",
       "      <td>Rosa ? R?gvu</td>\n",
       "      <td>actress</td>\n",
       "      <td>Pensionatv?rtinde</td>\n",
       "      <td>0.0</td>\n",
       "    </tr>\n",
       "  </tbody>\n",
       "</table>\n",
       "<p>3611212 rows × 6 columns</p>\n",
       "</div>"
      ],
      "text/plain": [
       "                                    title  year                         name  \\\n",
       "0                          Closet Monster  2015                     Buffy #1   \n",
       "1                         Suuri illusioni  1985                       Homo $   \n",
       "2                     Battle of the Sexes  2017                      $hutter   \n",
       "3                    Secret in Their Eyes  2015                      $hutter   \n",
       "4                              Steve Jobs  2015                      $hutter   \n",
       "...                                   ...   ...                          ...   \n",
       "3611207                           Foxtrot  1988            Lilja ??risd?ttir   \n",
       "3611208  Niceland (Population. 1.000.002)  2004    Sigr??ur J?na ??risd?ttir   \n",
       "3611209                         Skammdegi  1985           Dalla ??r?ard?ttir   \n",
       "3611210                      U.S.S.S.S...  2003  Krist?n Andrea ??r?ard?ttir   \n",
       "3611211                 Bye Bye Blue Bird  1999                 Rosa ? R?gvu   \n",
       "\n",
       "            type                character     n  \n",
       "0          actor                  Buffy 4   0.0  \n",
       "1          actor                   Guests  22.0  \n",
       "2          actor          Bobby Riggs Fan  10.0  \n",
       "3          actor          2002 Dodger Fan   0.0  \n",
       "4          actor  1988 Opera House Patron   0.0  \n",
       "...          ...                      ...   ...  \n",
       "3611207  actress                     D?ra  24.0  \n",
       "3611208  actress             Woman in Bus  26.0  \n",
       "3611209  actress            Hj?krunarkona   9.0  \n",
       "3611210  actress   Afgr.dama ? bens?nst??  17.0  \n",
       "3611211  actress        Pensionatv?rtinde   0.0  \n",
       "\n",
       "[3611212 rows x 6 columns]"
      ]
     },
     "execution_count": 6,
     "metadata": {},
     "output_type": "execute_result"
    }
   ],
   "source": [
    "### Performing missing on entire dataset \n",
    "## n column & imputing the missing ranks with 0 \n",
    "df['n']=df['n'].fillna(0)\n",
    "df.head(3)\n",
    "df[df.isnull()!=True] ## we fill all number value easily by using fill na funcation imputing the 0 .## True is use for permanment mark the rank ."
   ]
  },
  {
   "cell_type": "markdown",
   "id": "ebfa5be2-6a6d-44af-af95-271877fd330e",
   "metadata": {},
   "source": [
    "## now we are checking again the fill na value count - "
   ]
  },
  {
   "cell_type": "code",
   "execution_count": 7,
   "id": "9e0cdfbb-fbf0-4ffb-a1df-71ddb040ccdd",
   "metadata": {},
   "outputs": [
    {
     "data": {
      "text/plain": [
       "title         6\n",
       "year          0\n",
       "name          0\n",
       "type          0\n",
       "character    14\n",
       "n             0\n",
       "dtype: int64"
      ]
     },
     "execution_count": 7,
     "metadata": {},
     "output_type": "execute_result"
    }
   ],
   "source": [
    "df.isnull().sum()"
   ]
  },
  {
   "cell_type": "code",
   "execution_count": 8,
   "id": "77f81ecd-b3db-442f-a9e4-fd6b2c749ed8",
   "metadata": {},
   "outputs": [
    {
     "data": {
      "text/html": [
       "<div>\n",
       "<style scoped>\n",
       "    .dataframe tbody tr th:only-of-type {\n",
       "        vertical-align: middle;\n",
       "    }\n",
       "\n",
       "    .dataframe tbody tr th {\n",
       "        vertical-align: top;\n",
       "    }\n",
       "\n",
       "    .dataframe thead th {\n",
       "        text-align: right;\n",
       "    }\n",
       "</style>\n",
       "<table border=\"1\" class=\"dataframe\">\n",
       "  <thead>\n",
       "    <tr style=\"text-align: right;\">\n",
       "      <th></th>\n",
       "      <th>title</th>\n",
       "      <th>year</th>\n",
       "      <th>name</th>\n",
       "      <th>type</th>\n",
       "      <th>character</th>\n",
       "      <th>n</th>\n",
       "    </tr>\n",
       "  </thead>\n",
       "  <tbody>\n",
       "    <tr>\n",
       "      <th>0</th>\n",
       "      <td>NaN</td>\n",
       "      <td>NaN</td>\n",
       "      <td>NaN</td>\n",
       "      <td>NaN</td>\n",
       "      <td>NaN</td>\n",
       "      <td>NaN</td>\n",
       "    </tr>\n",
       "    <tr>\n",
       "      <th>1</th>\n",
       "      <td>NaN</td>\n",
       "      <td>NaN</td>\n",
       "      <td>NaN</td>\n",
       "      <td>NaN</td>\n",
       "      <td>NaN</td>\n",
       "      <td>NaN</td>\n",
       "    </tr>\n",
       "    <tr>\n",
       "      <th>2</th>\n",
       "      <td>NaN</td>\n",
       "      <td>NaN</td>\n",
       "      <td>NaN</td>\n",
       "      <td>NaN</td>\n",
       "      <td>NaN</td>\n",
       "      <td>NaN</td>\n",
       "    </tr>\n",
       "    <tr>\n",
       "      <th>3</th>\n",
       "      <td>NaN</td>\n",
       "      <td>NaN</td>\n",
       "      <td>NaN</td>\n",
       "      <td>NaN</td>\n",
       "      <td>NaN</td>\n",
       "      <td>NaN</td>\n",
       "    </tr>\n",
       "    <tr>\n",
       "      <th>4</th>\n",
       "      <td>NaN</td>\n",
       "      <td>NaN</td>\n",
       "      <td>NaN</td>\n",
       "      <td>NaN</td>\n",
       "      <td>NaN</td>\n",
       "      <td>NaN</td>\n",
       "    </tr>\n",
       "    <tr>\n",
       "      <th>...</th>\n",
       "      <td>...</td>\n",
       "      <td>...</td>\n",
       "      <td>...</td>\n",
       "      <td>...</td>\n",
       "      <td>...</td>\n",
       "      <td>...</td>\n",
       "    </tr>\n",
       "    <tr>\n",
       "      <th>3611207</th>\n",
       "      <td>NaN</td>\n",
       "      <td>NaN</td>\n",
       "      <td>NaN</td>\n",
       "      <td>NaN</td>\n",
       "      <td>NaN</td>\n",
       "      <td>NaN</td>\n",
       "    </tr>\n",
       "    <tr>\n",
       "      <th>3611208</th>\n",
       "      <td>NaN</td>\n",
       "      <td>NaN</td>\n",
       "      <td>NaN</td>\n",
       "      <td>NaN</td>\n",
       "      <td>NaN</td>\n",
       "      <td>NaN</td>\n",
       "    </tr>\n",
       "    <tr>\n",
       "      <th>3611209</th>\n",
       "      <td>NaN</td>\n",
       "      <td>NaN</td>\n",
       "      <td>NaN</td>\n",
       "      <td>NaN</td>\n",
       "      <td>NaN</td>\n",
       "      <td>NaN</td>\n",
       "    </tr>\n",
       "    <tr>\n",
       "      <th>3611210</th>\n",
       "      <td>NaN</td>\n",
       "      <td>NaN</td>\n",
       "      <td>NaN</td>\n",
       "      <td>NaN</td>\n",
       "      <td>NaN</td>\n",
       "      <td>NaN</td>\n",
       "    </tr>\n",
       "    <tr>\n",
       "      <th>3611211</th>\n",
       "      <td>NaN</td>\n",
       "      <td>NaN</td>\n",
       "      <td>NaN</td>\n",
       "      <td>NaN</td>\n",
       "      <td>NaN</td>\n",
       "      <td>NaN</td>\n",
       "    </tr>\n",
       "  </tbody>\n",
       "</table>\n",
       "<p>3611212 rows × 6 columns</p>\n",
       "</div>"
      ],
      "text/plain": [
       "        title  year name type character   n\n",
       "0         NaN   NaN  NaN  NaN       NaN NaN\n",
       "1         NaN   NaN  NaN  NaN       NaN NaN\n",
       "2         NaN   NaN  NaN  NaN       NaN NaN\n",
       "3         NaN   NaN  NaN  NaN       NaN NaN\n",
       "4         NaN   NaN  NaN  NaN       NaN NaN\n",
       "...       ...   ...  ...  ...       ...  ..\n",
       "3611207   NaN   NaN  NaN  NaN       NaN NaN\n",
       "3611208   NaN   NaN  NaN  NaN       NaN NaN\n",
       "3611209   NaN   NaN  NaN  NaN       NaN NaN\n",
       "3611210   NaN   NaN  NaN  NaN       NaN NaN\n",
       "3611211   NaN   NaN  NaN  NaN       NaN NaN\n",
       "\n",
       "[3611212 rows x 6 columns]"
      ]
     },
     "execution_count": 8,
     "metadata": {},
     "output_type": "execute_result"
    }
   ],
   "source": [
    "df[df.isnull()==True]"
   ]
  },
  {
   "cell_type": "code",
   "execution_count": 9,
   "id": "e2d92171-1ab3-4c4c-b643-385423eca7f3",
   "metadata": {},
   "outputs": [],
   "source": [
    "df = df.dropna()"
   ]
  },
  {
   "cell_type": "code",
   "execution_count": 10,
   "id": "88f22e70-97ac-436d-ba3b-25a158998411",
   "metadata": {},
   "outputs": [
    {
     "data": {
      "text/plain": [
       "title        0\n",
       "year         0\n",
       "name         0\n",
       "type         0\n",
       "character    0\n",
       "n            0\n",
       "dtype: int64"
      ]
     },
     "execution_count": 10,
     "metadata": {},
     "output_type": "execute_result"
    }
   ],
   "source": [
    "df.isnull().sum()"
   ]
  },
  {
   "cell_type": "code",
   "execution_count": 11,
   "id": "94b5e544-3530-4037-bd3f-768d296ca5fb",
   "metadata": {},
   "outputs": [
    {
     "data": {
      "text/plain": [
       "Index(['title', 'year', 'name', 'type', 'character', 'n'], dtype='object')"
      ]
     },
     "execution_count": 11,
     "metadata": {},
     "output_type": "execute_result"
    }
   ],
   "source": [
    "### We have arrange the proper name of each column - \n",
    "df.columns"
   ]
  },
  {
   "cell_type": "code",
   "execution_count": 16,
   "id": "86839d25-474d-49cf-a465-a442087653c8",
   "metadata": {},
   "outputs": [],
   "source": [
    "df.rename(columns = {'n': 'rank' , 'title' : 'movie name'}, inplace = True )"
   ]
  },
  {
   "cell_type": "code",
   "execution_count": 17,
   "id": "7d21231a-8604-422e-adf8-0032133a6fa1",
   "metadata": {},
   "outputs": [
    {
     "data": {
      "text/html": [
       "<div>\n",
       "<style scoped>\n",
       "    .dataframe tbody tr th:only-of-type {\n",
       "        vertical-align: middle;\n",
       "    }\n",
       "\n",
       "    .dataframe tbody tr th {\n",
       "        vertical-align: top;\n",
       "    }\n",
       "\n",
       "    .dataframe thead th {\n",
       "        text-align: right;\n",
       "    }\n",
       "</style>\n",
       "<table border=\"1\" class=\"dataframe\">\n",
       "  <thead>\n",
       "    <tr style=\"text-align: right;\">\n",
       "      <th></th>\n",
       "      <th>movie name</th>\n",
       "      <th>year</th>\n",
       "      <th>name</th>\n",
       "      <th>type</th>\n",
       "      <th>character</th>\n",
       "      <th>rank</th>\n",
       "    </tr>\n",
       "  </thead>\n",
       "  <tbody>\n",
       "    <tr>\n",
       "      <th>0</th>\n",
       "      <td>Closet Monster</td>\n",
       "      <td>2015</td>\n",
       "      <td>Buffy #1</td>\n",
       "      <td>actor</td>\n",
       "      <td>Buffy 4</td>\n",
       "      <td>0.0</td>\n",
       "    </tr>\n",
       "    <tr>\n",
       "      <th>1</th>\n",
       "      <td>Suuri illusioni</td>\n",
       "      <td>1985</td>\n",
       "      <td>Homo $</td>\n",
       "      <td>actor</td>\n",
       "      <td>Guests</td>\n",
       "      <td>22.0</td>\n",
       "    </tr>\n",
       "  </tbody>\n",
       "</table>\n",
       "</div>"
      ],
      "text/plain": [
       "        movie name  year      name   type character  rank\n",
       "0   Closet Monster  2015  Buffy #1  actor   Buffy 4   0.0\n",
       "1  Suuri illusioni  1985    Homo $  actor    Guests  22.0"
      ]
     },
     "execution_count": 17,
     "metadata": {},
     "output_type": "execute_result"
    }
   ],
   "source": [
    "df.head(2)"
   ]
  },
  {
   "cell_type": "markdown",
   "id": "bd3dca6f-39d9-434b-802c-c9d0d48bfcc0",
   "metadata": {},
   "source": [
    "### Now our data modelling done - \n",
    "## We are movinng towards the some senariobase question on datasets -"
   ]
  },
  {
   "cell_type": "markdown",
   "id": "b5560429-e13d-456e-a0fc-a7afa734bf4b",
   "metadata": {},
   "source": [
    "### 1 How many movies are listed in the titles dataframe?"
   ]
  },
  {
   "cell_type": "code",
   "execution_count": 18,
   "id": "2d227a3b-4fb4-4a19-bd4a-5c2bfc7c0800",
   "metadata": {},
   "outputs": [
    {
     "name": "stdout",
     "output_type": "stream",
     "text": [
      "No of Unique Title -  172292\n"
     ]
    }
   ],
   "source": [
    "#Ans - \n",
    "print('No of Unique Title - ',df['movie name'].nunique())"
   ]
  },
  {
   "cell_type": "markdown",
   "id": "f845e9f7-9bd8-45b1-96c6-d725af2f61f0",
   "metadata": {},
   "source": [
    "### 2 What are the earliest two films listed in the titles dataframe?"
   ]
  },
  {
   "cell_type": "code",
   "execution_count": 19,
   "id": "cdd18aec-27e9-419c-ba5f-5aea3106f6a8",
   "metadata": {},
   "outputs": [
    {
     "name": "stdout",
     "output_type": "stream",
     "text": [
      "Earliest two films - \n",
      "          movie name  year      name   type character  rank\n",
      "0   Closet Monster  2015  Buffy #1  actor   Buffy 4   0.0\n",
      "1  Suuri illusioni  1985    Homo $  actor    Guests  22.0\n"
     ]
    }
   ],
   "source": [
    "## Ans - \n",
    "print ('Earliest two films - \\n ' ,df.head(2))"
   ]
  },
  {
   "cell_type": "markdown",
   "id": "b326bbd5-8e6c-4d7a-bbd2-9f8c5f723f58",
   "metadata": {},
   "source": [
    "### 3 How many movies have the title \"Hamlet\"?"
   ]
  },
  {
   "cell_type": "code",
   "execution_count": 21,
   "id": "f567ea36-fe9c-4945-8f7b-c866b5daa968",
   "metadata": {
    "scrolled": true
   },
   "outputs": [
    {
     "name": "stdout",
     "output_type": "stream",
     "text": [
      "        movie name  year              name     type              character  \\\n",
      "1615        Hamlet  1996        Riz Abbasi    actor  Attendant to Claudius   \n",
      "7438        Hamlet  1921  Fritz Achterberg    actor            Fortinbras,   \n",
      "11242       Hamlet  2009      Hayden Adams    actor                Laertes   \n",
      "11243       Hamlet  2009      Hayden Adams    actor                 Player   \n",
      "13907       Hamlet  1913       Eric Adeney    actor               Reynaldo   \n",
      "...            ...   ...               ...      ...                    ...   \n",
      "3505738     Hamlet  1969    Jennifer Tudor  actress             Court lady   \n",
      "3528322     Hamlet  2000      Diane Venora  actress               Gertrude   \n",
      "3557773     Hamlet  1996     Perdita Weeks  actress          Second Player   \n",
      "3562331     Hamlet  2015   Katie (II) West  actress                Ophelia   \n",
      "3578802     Hamlet  1996      Kate Winslet  actress                Ophelia   \n",
      "\n",
      "         rank  \n",
      "1615      1.0  \n",
      "7438      9.0  \n",
      "11242     7.0  \n",
      "11243     7.0  \n",
      "13907    14.0  \n",
      "...       ...  \n",
      "3505738  23.0  \n",
      "3528322   3.0  \n",
      "3557773  44.0  \n",
      "3562331   7.0  \n",
      "3578802  46.0  \n",
      "\n",
      "[313 rows x 6 columns]\n"
     ]
    }
   ],
   "source": [
    "# Ans - \n",
    "Hamlet = df[df['movie name']== 'Hamlet']\n",
    "print(Hamlet)"
   ]
  },
  {
   "cell_type": "code",
   "execution_count": 22,
   "id": "f849d422-bf2d-4125-b5cf-d9c9d21f85e2",
   "metadata": {},
   "outputs": [
    {
     "name": "stdout",
     "output_type": "stream",
     "text": [
      "movies name Hamlet count -  (313, 6)\n"
     ]
    }
   ],
   "source": [
    "print ('movies name Hamlet count - ',Hamlet.shape)"
   ]
  },
  {
   "cell_type": "markdown",
   "id": "c9d9eb73-a178-41a8-818f-491fdce1d18a",
   "metadata": {},
   "source": [
    "### 4 How many movies are titled \"North by Northwest\"?"
   ]
  },
  {
   "cell_type": "code",
   "execution_count": 23,
   "id": "6a59bfc3-98c9-4e51-a86e-df305defc9a3",
   "metadata": {
    "scrolled": true
   },
   "outputs": [
    {
     "name": "stdout",
     "output_type": "stream",
     "text": [
      "                 movie name  year               name     type  \\\n",
      "12151    North by Northwest  1959      Stanley Adams    actor   \n",
      "27852    North by Northwest  1959         Andy Albin    actor   \n",
      "54093    North by Northwest  1959       Don Anderson    actor   \n",
      "54307    North by Northwest  1959    Ernest Anderson    actor   \n",
      "92195    North by Northwest  1959  Malcolm Atterbury    actor   \n",
      "...                     ...   ...                ...      ...   \n",
      "3361396  North by Northwest  1959    Eva Marie Saint  actress   \n",
      "3416124  North by Northwest  1959        Doris Singh  actress   \n",
      "3437248  North by Northwest  1959       Helen Spring  actress   \n",
      "3567500  North by Northwest  1959      Susan Whitney  actress   \n",
      "3578877  North by Northwest  1959     Paula Winslowe  actress   \n",
      "\n",
      "                                 character  rank  \n",
      "12151                   Lieutenant Harding   0.0  \n",
      "27852                               Farmer   0.0  \n",
      "54093                               Worker   0.0  \n",
      "54307     Porter on Twentieth Century Ltd.   0.0  \n",
      "92195              Man at Prairie Crossing   0.0  \n",
      "...                                    ...   ...  \n",
      "3361396                        Eve Kendall   2.0  \n",
      "3416124  First United Nations Receptionist   0.0  \n",
      "3437248                             Bidder   0.0  \n",
      "3567500                          Attendant   0.0  \n",
      "3578877                   Woman at Auction   0.0  \n",
      "\n",
      "[112 rows x 6 columns]\n"
     ]
    }
   ],
   "source": [
    "# Ans - \n",
    "Northwest = df[df['movie name']== 'North by Northwest']\n",
    "print(Northwest)"
   ]
  },
  {
   "cell_type": "code",
   "execution_count": 24,
   "id": "2e7b4a4b-a8ff-4cd3-b13a-672568c257e0",
   "metadata": {},
   "outputs": [
    {
     "name": "stdout",
     "output_type": "stream",
     "text": [
      "movies name North by Northwest count -  (112, 6)\n"
     ]
    }
   ],
   "source": [
    "print ('movies name North by Northwest count - ',Northwest.shape)"
   ]
  },
  {
   "cell_type": "markdown",
   "id": "d4fda65e-e222-4650-8344-c16f451192f4",
   "metadata": {},
   "source": [
    "### 5 When was the first movie titled \"Hamlet\" made?\n",
    "## We have already sorted hamlet movie ."
   ]
  },
  {
   "cell_type": "code",
   "execution_count": 25,
   "id": "c2211426-360a-4932-b4e5-ef3ad0a0d7fe",
   "metadata": {},
   "outputs": [
    {
     "name": "stdout",
     "output_type": "stream",
     "text": [
      "        movie name  year               name   type character  rank\n",
      "1545289     Hamlet  1910  Jean Mounet-Sully  actor    Hamlet   0.0\n"
     ]
    }
   ],
   "source": [
    "#  Ans - \n",
    "sorted_Hamlet = Hamlet.sort_values(by='year',ascending=True)\n",
    "print(sorted_Hamlet.head(1))"
   ]
  },
  {
   "cell_type": "markdown",
   "id": "95bcb832-740d-40e2-b8fb-e959fbd27fe2",
   "metadata": {},
   "source": [
    "### 6 List all of the \"Treasure Island\" movies from earliest to most recent."
   ]
  },
  {
   "cell_type": "code",
   "execution_count": 26,
   "id": "0b8277a1-7a3c-49c7-8008-131ea986ddc6",
   "metadata": {
    "scrolled": true
   },
   "outputs": [
    {
     "name": "stdout",
     "output_type": "stream",
     "text": [
      "              movie name  year                 name     type  \\\n",
      "9432     Treasure Island  1934         Robert Adair    actor   \n",
      "13253    Treasure Island  1950         Chris Adcock    actor   \n",
      "16246    Treasure Island  1985          Yves Afonso    actor   \n",
      "42039    Treasure Island  1972   Cristino Almod?var    actor   \n",
      "55071    Treasure Island  1934  John (XII) Anderson    actor   \n",
      "...                  ...   ...                  ...      ...   \n",
      "3415912  Treasure Island  1999        Rachel Singer  actress   \n",
      "3471316  Treasure Island  1934          Jane Talent  actress   \n",
      "3507587  Treasure Island  1999     Guinevere Turner  actress   \n",
      "3553298  Treasure Island  1918   Eleanor Washington  actress   \n",
      "3556764  Treasure Island  1973            Jane Webb  actress   \n",
      "\n",
      "                          character  rank  \n",
      "9432                   Tom - Seaman   0.0  \n",
      "13253                          Pike  26.0  \n",
      "16246                French captain   8.0  \n",
      "42039                       O'Brien  16.0  \n",
      "55071    Pirate of the Spanish Main  18.0  \n",
      "...                             ...   ...  \n",
      "3415912                        Anna   6.0  \n",
      "3471316                Streetwalker   0.0  \n",
      "3507587                      Evelyn  14.0  \n",
      "3553298             Prologue Player   0.0  \n",
      "3556764                Mrs. Hawkins   6.0  \n",
      "\n",
      "[190 rows x 6 columns]\n"
     ]
    }
   ],
   "source": [
    "# Ans - \n",
    "Treasure_Island = df[df['movie name']== 'Treasure Island']\n",
    "print(Treasure_Island)"
   ]
  },
  {
   "cell_type": "code",
   "execution_count": 31,
   "id": "7303ed77-0862-4f96-b303-823c360ea4ad",
   "metadata": {},
   "outputs": [
    {
     "name": "stdout",
     "output_type": "stream",
     "text": [
      "             movie name  year            name   type        character  rank\n",
      "830114  Treasure Island  1918  Charles Gorman  actor  Prologue Player   0.0\n"
     ]
    }
   ],
   "source": [
    "## Sorting year wise - \n",
    "first_Treasure_Island = Treasure_Island.sort_values(by='year',ascending=True)\n",
    "print(first_Treasure_Island.head(1))"
   ]
  },
  {
   "cell_type": "markdown",
   "id": "5f8ac062-a504-4454-bd73-388bdf1db4fe",
   "metadata": {},
   "source": [
    "### 7 How many movies were made in the year 1950?"
   ]
  },
  {
   "cell_type": "code",
   "execution_count": 36,
   "id": "187fdbe6-67cb-4a86-9b62-356d9cfd00bf",
   "metadata": {},
   "outputs": [
    {
     "name": "stdout",
     "output_type": "stream",
     "text": [
      "number of movies in 1950 -  (22006, 6)\n"
     ]
    }
   ],
   "source": [
    "# Ans - \n",
    "movie_1950 = df[df['year'] == 1950]\n",
    "print('number of movies in 1950 - ' ,movie_1950.shape)"
   ]
  },
  {
   "cell_type": "markdown",
   "id": "a2c20869-4da6-4853-b0dd-74818526eb07",
   "metadata": {},
   "source": [
    "### 8 How many movies were made in the year 1960?"
   ]
  },
  {
   "cell_type": "code",
   "execution_count": 37,
   "id": "70e28b53-ee84-46df-9cfb-637fcc2caa8c",
   "metadata": {},
   "outputs": [
    {
     "name": "stdout",
     "output_type": "stream",
     "text": [
      "number of movies in 1960 -  (18456, 6)\n"
     ]
    }
   ],
   "source": [
    "# Ans - \n",
    "movie_1960 = df[df['year'] == 1960]\n",
    "print('number of movies in 1960 - ' ,movie_1960.shape)"
   ]
  },
  {
   "cell_type": "markdown",
   "id": "a3340501-0240-4dc0-88f8-70d51888ef24",
   "metadata": {},
   "source": [
    "### 9 How many movies were made from 1950 through 1959?"
   ]
  },
  {
   "cell_type": "code",
   "execution_count": 39,
   "id": "de095385-efc0-4d3a-a2dd-7a0f10aae493",
   "metadata": {},
   "outputs": [
    {
     "name": "stdout",
     "output_type": "stream",
     "text": [
      "number of movies in 1950-59 -  (210986, 6)\n"
     ]
    }
   ],
   "source": [
    "# Ans  -\n",
    "movies_1950_1959 = df[(df['year'] >= 1950) & (df['year'] <= 1959)]\n",
    "print('number of movies in 1950-59 - ' ,movies_1950_1959.shape)"
   ]
  },
  {
   "cell_type": "markdown",
   "id": "d25ec7d7-dbbc-4f1a-9564-35e9236e96e9",
   "metadata": {},
   "source": [
    "### 10 In what years has a movie titled \"Batman\" been released?"
   ]
  },
  {
   "cell_type": "code",
   "execution_count": 45,
   "id": "ee87e843-27c9-4763-9214-94736b42a610",
   "metadata": {},
   "outputs": [
    {
     "name": "stdout",
     "output_type": "stream",
     "text": [
      "a movie titled \"Batman\" been released -  [1943 1989]\n"
     ]
    }
   ],
   "source": [
    "# Ans - \n",
    "batman = df[df['movie name'] == 'Batman']\n",
    "batman_movie_years = batman['year'].unique()\n",
    "print('a movie titled \"Batman\" been released - ' , batman_movie_years)"
   ]
  },
  {
   "cell_type": "markdown",
   "id": "bb7ec3b1-1a1b-4ac2-ac38-6e4454b62d0c",
   "metadata": {},
   "source": [
    "### 11 How many roles were there in the movie \"Inception\"?"
   ]
  },
  {
   "cell_type": "code",
   "execution_count": 49,
   "id": "6c42e0b6-da19-4018-9457-67786b78cf95",
   "metadata": {},
   "outputs": [
    {
     "name": "stdout",
     "output_type": "stream",
     "text": [
      "count of roles were there in the movie Inception -  (77, 6)\n"
     ]
    }
   ],
   "source": [
    "# Ans - \n",
    "inception_roles = df[df['movie name'] == 'Inception']\n",
    "count_inception_roles = inception_roles.shape\n",
    "print ('count of roles were there in the movie Inception - ',count_inception_roles)"
   ]
  },
  {
   "cell_type": "markdown",
   "id": "f8df10ce-56f3-4822-abb5-142f6019604d",
   "metadata": {},
   "source": [
    "## 12 How many roles in the movie \"Inception\" are NOT ranked by an \"n\" value?"
   ]
  },
  {
   "cell_type": "code",
   "execution_count": 59,
   "id": "8c5b26f2-2780-4f08-9a76-c903853ffa2b",
   "metadata": {},
   "outputs": [
    {
     "name": "stdout",
     "output_type": "stream",
     "text": [
      "Empty DataFrame\n",
      "Columns: [movie name, year, name, type, character, rank]\n",
      "Index: []\n",
      " movie \"Inception\" are NOT ranked by an \"n\" value - \n",
      " Empty DataFrame\n",
      "Columns: [movie name, year, name, type, character, rank]\n",
      "Index: []\n"
     ]
    }
   ],
   "source": [
    "## Ans - \n",
    "inception = df[df['movie name'] == 'Inception']\n",
    "null = inception[inception['rank'].isnull()]\n",
    "print(null)\n",
    "print(' movie \"Inception\" are NOT ranked by an \"n\" value - \\n',null)"
   ]
  },
  {
   "cell_type": "markdown",
   "id": "bcb5395b-44ee-4785-88e5-e815bbd21db8",
   "metadata": {},
   "source": [
    "### 13 But how many roles in the movie \"Inception\" did receive an \"n\" value?"
   ]
  },
  {
   "cell_type": "code",
   "execution_count": 66,
   "id": "e28429e9-2ad6-4a41-af8b-bd3a69420228",
   "metadata": {},
   "outputs": [
    {
     "name": "stdout",
     "output_type": "stream",
     "text": [
      "(77, 6)\n"
     ]
    }
   ],
   "source": [
    "# Ans - \n",
    "inception = df[df['movie name'] == 'Inception']\n",
    "rank = inception[inception['rank'].notnull()]\n",
    "rank_count = rank.shape\n",
    "print(rank_count)"
   ]
  },
  {
   "cell_type": "markdown",
   "id": "c3e30d10-6581-4b9a-8b5b-7530cca0347a",
   "metadata": {},
   "source": [
    "### 14 Display the cast of \"North by Northwest\" in their correct \"n\"-value order, ignoring roles that did not earn a numeric \"n\" value."
   ]
  },
  {
   "cell_type": "code",
   "execution_count": 67,
   "id": "0e79115a-cfc5-45f5-bd2e-c4e83b89c3fb",
   "metadata": {},
   "outputs": [],
   "source": [
    "# Ans - \n",
    "north_by_northwest_cast = df[df['movie name'] == 'North by Northwest']\n"
   ]
  },
  {
   "cell_type": "code",
   "execution_count": 73,
   "id": "2e8cd4e0-941d-467f-bd28-3df99d4a1da6",
   "metadata": {
    "scrolled": true
   },
   "outputs": [
    {
     "name": "stdout",
     "output_type": "stream",
     "text": [
      "                 movie name  year             name   type  \\\n",
      "12151    North by Northwest  1959    Stanley Adams  actor   \n",
      "2101335  North by Northwest  1959     Bert Stevens  actor   \n",
      "2098768  North by Northwest  1959  Harvey Stephens  actor   \n",
      "2070928  North by Northwest  1959       Olan Soule  actor   \n",
      "2044560  North by Northwest  1959     Jeremy Slate  actor   \n",
      "\n",
      "                                  character  rank  \n",
      "12151                    Lieutenant Harding   0.0  \n",
      "2101335      Man at United Nations Building   0.0  \n",
      "2098768                         Stockbroker   0.0  \n",
      "2070928                Assistant Auctioneer   0.0  \n",
      "2044560  Policeman at Grand Central Station   0.0  \n"
     ]
    },
    {
     "name": "stderr",
     "output_type": "stream",
     "text": [
      "C:\\Users\\DELL\\AppData\\Local\\Temp\\ipykernel_9568\\2864602842.py:1: SettingWithCopyWarning: \n",
      "A value is trying to be set on a copy of a slice from a DataFrame.\n",
      "Try using .loc[row_indexer,col_indexer] = value instead\n",
      "\n",
      "See the caveats in the documentation: https://pandas.pydata.org/pandas-docs/stable/user_guide/indexing.html#returning-a-view-versus-a-copy\n",
      "  north_by_northwest_cast['rank'] = pd.to_numeric(north_by_northwest_cast['rank'], errors='coerce')\n"
     ]
    }
   ],
   "source": [
    "north_by_northwest_cast['rank'] = pd.to_numeric(north_by_northwest_cast['rank'], errors='coerce')\n",
    "ranked_cast = north_by_northwest_cast[north_by_northwest_cast['rank'].notnull()]\n",
    "sorted_cast = ranked_cast.sort_values(by='rank')\n",
    "print(sorted_cast.head())"
   ]
  },
  {
   "cell_type": "markdown",
   "id": "94c52026-a689-4b36-a063-0fd4f8cf4d01",
   "metadata": {},
   "source": [
    "### 15 Display the entire cast, in \"n\"-order, of the 1972 film \"Sleuth\"."
   ]
  },
  {
   "cell_type": "code",
   "execution_count": 75,
   "id": "d53f6b89-7f8a-43e9-bfe7-1873a49b7a90",
   "metadata": {
    "scrolled": true
   },
   "outputs": [
    {
     "name": "stdout",
     "output_type": "stream",
     "text": [
      "        movie name  year                name     type  \\\n",
      "1644328     Sleuth  1972    Laurence Olivier    actor   \n",
      "314691      Sleuth  1972       Michael Caine    actor   \n",
      "360365      Sleuth  1972      Alec Cawthorne    actor   \n",
      "1412647     Sleuth  1972  John (II) Matthews    actor   \n",
      "2619278     Sleuth  1972  Eve (III) Channing  actress   \n",
      "1396572     Sleuth  1972        Teddy Martin    actor   \n",
      "\n",
      "                          character  rank  \n",
      "1644328                 Andrew Wyke   1.0  \n",
      "314691                  Milo Tindle   2.0  \n",
      "360365            Inspector Doppler   3.0  \n",
      "1412647  Detective Sergeant Tarrant   4.0  \n",
      "2619278             Marguerite Wyke   5.0  \n",
      "1396572      Police Constable Higgs   6.0  \n"
     ]
    },
    {
     "name": "stderr",
     "output_type": "stream",
     "text": [
      "C:\\Users\\DELL\\AppData\\Local\\Temp\\ipykernel_9568\\1772287.py:3: SettingWithCopyWarning: \n",
      "A value is trying to be set on a copy of a slice from a DataFrame.\n",
      "Try using .loc[row_indexer,col_indexer] = value instead\n",
      "\n",
      "See the caveats in the documentation: https://pandas.pydata.org/pandas-docs/stable/user_guide/indexing.html#returning-a-view-versus-a-copy\n",
      "  sleuth_cast['rank'] = pd.to_numeric(sleuth_cast['rank'], errors='coerce')\n"
     ]
    }
   ],
   "source": [
    "# Ans - \n",
    "sleuth_cast = df[(df['movie name'] == 'Sleuth') & (df['year'] == 1972)]\n",
    "sleuth_cast['rank'] = pd.to_numeric(sleuth_cast['rank'], errors='coerce')\n",
    "ranked_cast = sleuth_cast[sleuth_cast['rank'].notnull()]\n",
    "sorted_cast = ranked_cast.sort_values(by='rank')\n",
    "print(sorted_cast)"
   ]
  },
  {
   "cell_type": "markdown",
   "id": "9d76782e-b0fe-48d5-a147-285e01f12c8d",
   "metadata": {},
   "source": [
    "### 16  Now display the entire cast, in \"n\"-order, of the 2007 version of \"Sleuth\"."
   ]
  },
  {
   "cell_type": "code",
   "execution_count": 76,
   "id": "7bfbd2d3-3481-4ccb-a1e9-0f9289117c5f",
   "metadata": {
    "scrolled": true
   },
   "outputs": [
    {
     "name": "stdout",
     "output_type": "stream",
     "text": [
      "        movie name  year                 name     type          character  \\\n",
      "250297      Sleuth  2007      Kenneth Branagh    actor  Other Man on T.V.   \n",
      "360366      Sleuth  2007  Alec (II) Cawthorne    actor  Inspector Doppler   \n",
      "2619277     Sleuth  2007    Eve (II) Channing  actress    Marguerite Wyke   \n",
      "3223502     Sleuth  2007    Carmel O'Sullivan  actress             Maggie   \n",
      "314692      Sleuth  2007        Michael Caine    actor             Andrew   \n",
      "1246855     Sleuth  2007             Jude Law    actor               Milo   \n",
      "1741124     Sleuth  2007        Harold Pinter    actor        Man on T.V.   \n",
      "\n",
      "         rank  \n",
      "250297    0.0  \n",
      "360366    0.0  \n",
      "2619277   0.0  \n",
      "3223502   0.0  \n",
      "314692    1.0  \n",
      "1246855   2.0  \n",
      "1741124   3.0  \n"
     ]
    },
    {
     "name": "stderr",
     "output_type": "stream",
     "text": [
      "C:\\Users\\DELL\\AppData\\Local\\Temp\\ipykernel_9568\\4204170909.py:3: SettingWithCopyWarning: \n",
      "A value is trying to be set on a copy of a slice from a DataFrame.\n",
      "Try using .loc[row_indexer,col_indexer] = value instead\n",
      "\n",
      "See the caveats in the documentation: https://pandas.pydata.org/pandas-docs/stable/user_guide/indexing.html#returning-a-view-versus-a-copy\n",
      "  sleuth_cast['rank'] = pd.to_numeric(sleuth_cast['rank'], errors='coerce')\n"
     ]
    }
   ],
   "source": [
    "# Ans - \n",
    "sleuth_cast = df[(df['movie name'] == 'Sleuth') & (df['year'] == 2007)]\n",
    "sleuth_cast['rank'] = pd.to_numeric(sleuth_cast['rank'], errors='coerce')\n",
    "ranked_cast = sleuth_cast[sleuth_cast['rank'].notnull()]\n",
    "sorted_cast = ranked_cast.sort_values(by='rank')\n",
    "print(sorted_cast)"
   ]
  },
  {
   "cell_type": "markdown",
   "id": "d55e87d1-d3f8-4439-9ed7-298e202fb2e0",
   "metadata": {},
   "source": [
    "### 17 How many roles were credited in the silent 1921 version of Hamlet?"
   ]
  },
  {
   "cell_type": "code",
   "execution_count": 79,
   "id": "14b413f8-2ec5-4a7d-9e57-1dfc4b4f013e",
   "metadata": {},
   "outputs": [
    {
     "name": "stdout",
     "output_type": "stream",
     "text": [
      "9\n"
     ]
    }
   ],
   "source": [
    "# Ans - \n",
    "hamlet_1921_roles = df[(df['movie name'] == 'Hamlet') & (df['year'] == 1921)]\n",
    "num_hamlet_1921_roles = hamlet_1921_roles.shape[0]\n",
    "print(num_hamlet_1921_roles)"
   ]
  },
  {
   "cell_type": "markdown",
   "id": "1b2688e5-90bf-43ff-927a-47d7a88d4711",
   "metadata": {},
   "source": [
    "### 18 How many roles were credited in Branagh’s 1996 Hamlet?"
   ]
  },
  {
   "cell_type": "code",
   "execution_count": 80,
   "id": "66a80f6e-0ab3-4cca-a37a-3c20e3a056ce",
   "metadata": {},
   "outputs": [
    {
     "name": "stdout",
     "output_type": "stream",
     "text": [
      "0\n"
     ]
    }
   ],
   "source": [
    "# Ans - \n",
    "branagh_1996_roles = df[(df['movie name'] == 'Branagh') & (df['year'] == 1996)]\n",
    "num_branagh_1996_roles = branagh_1996_roles.shape[0]\n",
    "print(num_branagh_1996_roles)"
   ]
  },
  {
   "cell_type": "markdown",
   "id": "28bf9d7b-8145-4d7d-a79c-cd40e6ddf7e2",
   "metadata": {},
   "source": [
    "### 19 How many \"Hamlet\" roles have been listed in all film credits through history?"
   ]
  },
  {
   "cell_type": "code",
   "execution_count": 82,
   "id": "09b2368b-517d-497a-b0ef-95870a1e572e",
   "metadata": {},
   "outputs": [
    {
     "name": "stdout",
     "output_type": "stream",
     "text": [
      "313\n"
     ]
    }
   ],
   "source": [
    "# Ans - \n",
    "hamlet_roles = df[df['movie name'] == 'Hamlet']\n",
    "total_hamlet_roles = hamlet_roles.shape[0]\n",
    "print(total_hamlet_roles)"
   ]
  },
  {
   "cell_type": "markdown",
   "id": "eae6d5cf-182c-4d8a-876d-baf3d3f5efb3",
   "metadata": {},
   "source": [
    "### 20 How many people have played an \"Ophelia\"?"
   ]
  },
  {
   "cell_type": "code",
   "execution_count": 85,
   "id": "669cc9b8-45e1-475c-855d-545f9791c7f1",
   "metadata": {},
   "outputs": [
    {
     "name": "stdout",
     "output_type": "stream",
     "text": [
      "1\n"
     ]
    }
   ],
   "source": [
    "## ANs - \n",
    "ophelia_roles = df[df['character'] == 'Ophelia']\n",
    "num_ophelia_actors = ophelia_roles['character'].nunique()\n",
    "print(num_ophelia_actors)"
   ]
  },
  {
   "cell_type": "markdown",
   "id": "ecfb0d93-aa60-4419-ba93-8a044c6b780d",
   "metadata": {},
   "source": [
    "### 21 How many people have played a role called \"The Dude\"?"
   ]
  },
  {
   "cell_type": "code",
   "execution_count": 86,
   "id": "c92d4bd7-5e5e-4fbd-9c8e-1e29afca3dd6",
   "metadata": {},
   "outputs": [
    {
     "name": "stdout",
     "output_type": "stream",
     "text": [
      "1\n"
     ]
    }
   ],
   "source": [
    "## ANs - \n",
    "the_dude_roles = df[df['character'] == 'Ophelia']\n",
    "num_the_dude_actors = the_dude_roles['character'].nunique()\n",
    "print(num_the_dude_actors)"
   ]
  },
  {
   "cell_type": "markdown",
   "id": "6bb7449c-b381-43f7-adca-ac4bfadc2a88",
   "metadata": {},
   "source": [
    "### 22 How many people have played a role called \"The Stranger\"?"
   ]
  },
  {
   "cell_type": "code",
   "execution_count": 89,
   "id": "78772e1d-763e-4b7d-9255-3f0e94a0719b",
   "metadata": {},
   "outputs": [
    {
     "name": "stdout",
     "output_type": "stream",
     "text": [
      "1\n"
     ]
    }
   ],
   "source": [
    "## Ans - \n",
    "the_stranger_roles = df[df['character'] == 'The Stranger']\n",
    "num_the_stranger_actors = the_stranger_roles['character'].nunique()\n",
    "print(num_the_stranger_actors)"
   ]
  },
  {
   "cell_type": "markdown",
   "id": "286a06e1-149b-4ff4-b9c4-40bb4ee6285c",
   "metadata": {},
   "source": [
    "### 23 How many roles has Sidney Poitier played throughout his career?"
   ]
  },
  {
   "cell_type": "code",
   "execution_count": 90,
   "id": "ce6c14bc-3821-444e-acc0-249d07e198af",
   "metadata": {},
   "outputs": [
    {
     "name": "stdout",
     "output_type": "stream",
     "text": [
      "346262    Sidney Poitier\n",
      "Name: character, dtype: object\n"
     ]
    }
   ],
   "source": [
    "## Ans - \n",
    "sidney_poitier_roles = df[df['character'] == 'Sidney Poitier']\n",
    "num_sidney_poitier_actors = sidney_poitier_roles['character']\n",
    "print(num_sidney_poitier_actors)"
   ]
  },
  {
   "cell_type": "markdown",
   "id": "1eef26c5-f0d2-4ab4-9326-21e757566c8e",
   "metadata": {},
   "source": [
    "### 24 How many roles has Judi Dench played?"
   ]
  },
  {
   "cell_type": "code",
   "execution_count": 91,
   "id": "1fe3b9a0-fc06-4fe9-b805-aa7f458785c7",
   "metadata": {},
   "outputs": [
    {
     "name": "stdout",
     "output_type": "stream",
     "text": [
      "55\n"
     ]
    }
   ],
   "source": [
    "# Ans - \n",
    "judi_dench_roles = df[df['name'] == 'Judi Dench']\n",
    "num_judi_dench_roles = judi_dench_roles.shape[0]\n",
    "print(num_judi_dench_roles)"
   ]
  },
  {
   "cell_type": "markdown",
   "id": "56446225-97de-4fee-9ef7-a0c656a9f0d9",
   "metadata": {},
   "source": [
    "### 25 List the supporting roles (having n=2) played by Cary Grant in the 1940s, in order by year."
   ]
  },
  {
   "cell_type": "code",
   "execution_count": 94,
   "id": "fe57d169-8d0f-4498-b9d6-d6ef5394edfc",
   "metadata": {},
   "outputs": [
    {
     "name": "stdout",
     "output_type": "stream",
     "text": [
      "              movie name  year        name   type    character  rank\n",
      "840371  My Favorite Wife  1940  Cary Grant  actor         Nick   2.0\n",
      "840381    Penny Serenade  1941  Cary Grant  actor  Roger Adams   2.0\n"
     ]
    }
   ],
   "source": [
    "# Ans - \n",
    "cary_grant_roles_1940s = df[(df['name'] == 'Cary Grant') & (df['year'] >= 1940) & (df['year'] < 1950) & (df['rank'] == 2)]\n",
    "sorted_roles = cary_grant_roles_1940s.sort_values(by='year')\n",
    "print(sorted_roles)"
   ]
  },
  {
   "cell_type": "markdown",
   "id": "ea839754-bd04-4efc-82e4-53d9e89d84fe",
   "metadata": {},
   "source": [
    "### 26  List the leading roles that Cary Grant played in the 1940s in order by year."
   ]
  },
  {
   "cell_type": "code",
   "execution_count": 98,
   "id": "1595cf5a-0bc3-47e7-9bf9-12dacc12cef8",
   "metadata": {},
   "outputs": [
    {
     "name": "stdout",
     "output_type": "stream",
     "text": [
      "              movie name  year        name   type    character  rank\n",
      "840371  My Favorite Wife  1940  Cary Grant  actor         Nick   2.0\n",
      "840381    Penny Serenade  1941  Cary Grant  actor  Roger Adams   2.0\n"
     ]
    }
   ],
   "source": [
    "## Ans -\n",
    "cary_grant_leading_roles_1940s = df[ (df['name'] == 'Cary Grant') & (df['year'] >= 1940) &  (df['year'] < 1950) &  (df['rank'] == 1)]\n",
    "sorted_roles = cary_grant_roles_1940s.sort_values(by='year')\n",
    "print(sorted_roles)"
   ]
  },
  {
   "cell_type": "markdown",
   "id": "0abae69e-5fdd-4ac3-982b-a91a21b9f121",
   "metadata": {},
   "source": [
    "### 27 How many roles were available for actors in the 1950s?"
   ]
  },
  {
   "cell_type": "code",
   "execution_count": 100,
   "id": "b85475ba-f473-4a75-aa9f-47d04e171fde",
   "metadata": {},
   "outputs": [
    {
     "name": "stdout",
     "output_type": "stream",
     "text": [
      "210986\n"
     ]
    }
   ],
   "source": [
    "## Ans - \n",
    "roles_1950s = df[(df['year'] >= 1950) & (df['year'] < 1960)]\n",
    "num_roles_1950s = roles_1950s.shape[0]\n",
    "print(num_roles_1950s)"
   ]
  },
  {
   "cell_type": "markdown",
   "id": "c383b9e0-d5ba-4d25-b741-14a9c2bf9682",
   "metadata": {},
   "source": [
    "### 28 How many roles were available for actresses in the 1950s?"
   ]
  },
  {
   "cell_type": "code",
   "execution_count": 107,
   "id": "440b66fb-59e6-45fd-a5f5-8a97133bbdfb",
   "metadata": {},
   "outputs": [
    {
     "name": "stdout",
     "output_type": "stream",
     "text": [
      "0\n"
     ]
    }
   ],
   "source": [
    "### Ans - \n",
    "roles_1950s_actresses = df[(df['year'] >= 1950) & (df['year'] < 1960) & (df['type'] == 'actresses')]\n",
    "num_roles_1950s_actresses = roles_1950s_actresses.groupby('year').size()\n",
    "total_count = num_roles_1950s_actresses.sum()\n",
    "print(total_count)"
   ]
  },
  {
   "cell_type": "markdown",
   "id": "cb13125f-f9e0-46f9-bf07-4fa9f365e744",
   "metadata": {},
   "source": [
    "### 29  How many leading roles (n=1) were available from the beginning of film history through 1980?"
   ]
  },
  {
   "cell_type": "code",
   "execution_count": 110,
   "id": "5481cb79-1eed-4df4-8b54-ca07ecfbf856",
   "metadata": {},
   "outputs": [
    {
     "name": "stdout",
     "output_type": "stream",
     "text": [
      "63924\n"
     ]
    }
   ],
   "source": [
    "# Ans - \n",
    "leading_roles_until_1980 = df[(df['rank'] == 1) & (df['year'] <= 1980)]\n",
    "num_leading_roles_until_1980 = leading_roles_until_1980.shape[0]\n",
    "print(num_leading_roles_until_1980)"
   ]
  },
  {
   "cell_type": "markdown",
   "id": "aca57178-9b7b-4369-a183-669ab725a034",
   "metadata": {},
   "source": [
    "###  30 How many non-leading roles were available through from the beginning of film history through 1980?"
   ]
  },
  {
   "cell_type": "code",
   "execution_count": 111,
   "id": "6735d307-2b88-402a-8492-fc2f5f7f91e0",
   "metadata": {},
   "outputs": [
    {
     "name": "stdout",
     "output_type": "stream",
     "text": [
      "1094780\n"
     ]
    }
   ],
   "source": [
    "# ANs -\n",
    "non_leading_roles_until_1980 = df[(df['rank'] != 1) & (df['year'] <= 1980)]\n",
    "num_non_leading_roles_until_1980 = non_leading_roles_until_1980.shape[0]\n",
    "print(num_non_leading_roles_until_1980)"
   ]
  },
  {
   "cell_type": "markdown",
   "id": "6f2ffd42-cbe7-4252-8975-dfdc4d9b668c",
   "metadata": {},
   "source": [
    "### 31 How many roles through 1980 were minor enough that they did not warrant a numeric \"n\" rank?"
   ]
  },
  {
   "cell_type": "code",
   "execution_count": 113,
   "id": "ee0c64b9-c771-4419-b3ed-e0e371dfd170",
   "metadata": {},
   "outputs": [
    {
     "name": "stdout",
     "output_type": "stream",
     "text": [
      "0\n"
     ]
    }
   ],
   "source": [
    "# ANs - \n",
    "roles_without_numeric_n_until_1980 = df[(df['year'] <= 1980) & (df['rank'].isna())]\n",
    "num_roles_without_numeric_n_until_1980 = roles_without_numeric_n_until_1980.shape[0]\n",
    "print(num_roles_without_numeric_n_until_1980)"
   ]
  },
  {
   "cell_type": "code",
   "execution_count": null,
   "id": "145137ef-b281-4e43-a10b-8e5d10e69731",
   "metadata": {},
   "outputs": [],
   "source": []
  },
  {
   "cell_type": "code",
   "execution_count": null,
   "id": "e4cc2f60-9d7c-4e1e-9c20-1ea8725ce0b9",
   "metadata": {},
   "outputs": [],
   "source": []
  },
  {
   "cell_type": "code",
   "execution_count": null,
   "id": "fb429d5f-1d50-4fe6-ad29-d3bf5f72c752",
   "metadata": {},
   "outputs": [],
   "source": []
  },
  {
   "cell_type": "code",
   "execution_count": null,
   "id": "d9e3a47c-d2f8-47f9-b4a3-e9fb68f27cf7",
   "metadata": {},
   "outputs": [],
   "source": []
  },
  {
   "cell_type": "code",
   "execution_count": null,
   "id": "bb2670e2-41f5-46db-8423-6aa4cb8149ff",
   "metadata": {},
   "outputs": [],
   "source": []
  }
 ],
 "metadata": {
  "kernelspec": {
   "display_name": "Python 3 (ipykernel)",
   "language": "python",
   "name": "python3"
  },
  "language_info": {
   "codemirror_mode": {
    "name": "ipython",
    "version": 3
   },
   "file_extension": ".py",
   "mimetype": "text/x-python",
   "name": "python",
   "nbconvert_exporter": "python",
   "pygments_lexer": "ipython3",
   "version": "3.11.7"
  }
 },
 "nbformat": 4,
 "nbformat_minor": 5
}
